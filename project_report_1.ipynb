{
 "cells": [
  {
   "cell_type": "code",
   "execution_count": 2,
   "id": "be1286b3-6ab6-431e-9611-496f12e5986f",
   "metadata": {},
   "outputs": [],
   "source": [
    "import numpy as np\n",
    "import pandas as pd\n",
    "import matplotlib.pyplot as plt\n",
    "import seaborn as sns"
   ]
  },
  {
   "cell_type": "code",
   "execution_count": 3,
   "id": "379cd5cf-6807-4d61-89b0-bf229f7cbbc0",
   "metadata": {},
   "outputs": [],
   "source": [
    "df = pd.read_csv('D:\\\\fy\\\\apartments_for_rent_classified_10K.csv', delimiter = ';', encoding = 'latin1')"
   ]
  },
  {
   "cell_type": "code",
   "execution_count": 4,
   "id": "17c9e3e7-a875-4dea-bf8c-2a8a39d143fc",
   "metadata": {},
   "outputs": [],
   "source": [
    "df = df.apply(lambda x: x.str.strip() if x.dtype == 'object' else x)"
   ]
  },
  {
   "cell_type": "code",
   "execution_count": 5,
   "id": "96a8df3e-7464-45d5-ab75-408213f0c6c7",
   "metadata": {},
   "outputs": [
    {
     "name": "stdout",
     "output_type": "stream",
     "text": [
      "id                  0\n",
      "category            0\n",
      "title               0\n",
      "body                0\n",
      "amenities        3549\n",
      "bathrooms          34\n",
      "bedrooms            7\n",
      "currency            0\n",
      "fee                 0\n",
      "has_photo           0\n",
      "pets_allowed     4163\n",
      "price               0\n",
      "price_display       0\n",
      "price_type          0\n",
      "square_feet         0\n",
      "address          3327\n",
      "cityname           77\n",
      "state              77\n",
      "latitude           10\n",
      "longitude          10\n",
      "source              0\n",
      "time                0\n",
      "dtype: int64\n"
     ]
    }
   ],
   "source": [
    "print(df.isnull().sum())"
   ]
  },
  {
   "cell_type": "code",
   "execution_count": 6,
   "id": "27cf6835-30fd-4666-a419-f714baf86407",
   "metadata": {},
   "outputs": [
    {
     "name": "stdout",
     "output_type": "stream",
     "text": [
      "<class 'pandas.core.frame.DataFrame'>\n",
      "RangeIndex: 10000 entries, 0 to 9999\n",
      "Data columns (total 22 columns):\n",
      " #   Column         Non-Null Count  Dtype  \n",
      "---  ------         --------------  -----  \n",
      " 0   id             10000 non-null  int64  \n",
      " 1   category       10000 non-null  object \n",
      " 2   title          10000 non-null  object \n",
      " 3   body           10000 non-null  object \n",
      " 4   amenities      6451 non-null   object \n",
      " 5   bathrooms      9966 non-null   float64\n",
      " 6   bedrooms       9993 non-null   float64\n",
      " 7   currency       10000 non-null  object \n",
      " 8   fee            10000 non-null  object \n",
      " 9   has_photo      10000 non-null  object \n",
      " 10  pets_allowed   5837 non-null   object \n",
      " 11  price          10000 non-null  int64  \n",
      " 12  price_display  10000 non-null  object \n",
      " 13  price_type     10000 non-null  object \n",
      " 14  square_feet    10000 non-null  int64  \n",
      " 15  address        6673 non-null   object \n",
      " 16  cityname       9923 non-null   object \n",
      " 17  state          9923 non-null   object \n",
      " 18  latitude       9990 non-null   float64\n",
      " 19  longitude      9990 non-null   float64\n",
      " 20  source         10000 non-null  object \n",
      " 21  time           10000 non-null  int64  \n",
      "dtypes: float64(4), int64(4), object(14)\n",
      "memory usage: 1.7+ MB\n",
      "None\n"
     ]
    }
   ],
   "source": [
    "print(df.info())"
   ]
  },
  {
   "cell_type": "code",
   "execution_count": 7,
   "id": "2006dddd-277d-4880-9764-ced8d8e8e432",
   "metadata": {},
   "outputs": [],
   "source": [
    "df['bathrooms'] = df['bathrooms'].fillna(df['bathrooms'].median())\n",
    "df['bedrooms'] = df['bedrooms'].fillna(df['bedrooms'].median())"
   ]
  },
  {
   "cell_type": "code",
   "execution_count": 13,
   "id": "3fa64544-fc44-4a27-aa82-d7c6cb191aba",
   "metadata": {},
   "outputs": [],
   "source": [
    "text_column = ['amenities','pets_allowed','address','cityname','state']\n",
    "\n",
    "for col in text_column:\n",
    "    df[col] = df[col].fillna('Unknown')"
   ]
  },
  {
   "cell_type": "code",
   "execution_count": 14,
   "id": "33f229a7-fb42-4eab-b1af-da2b2adc8f47",
   "metadata": {},
   "outputs": [],
   "source": [
    "df['time'] = pd.to_datetime(df['time'], errors='coerce', unit='s')"
   ]
  },
  {
   "cell_type": "code",
   "execution_count": 15,
   "id": "f4a60d3b-aabf-4c6c-a501-4331c525e3b9",
   "metadata": {},
   "outputs": [],
   "source": [
    "df['latitude'] = df['latitude'].fillna(df['latitude'].median())\n",
    "df['longitude'] = df['longitude'].fillna(df['longitude'].median())"
   ]
  },
  {
   "cell_type": "code",
   "execution_count": 18,
   "id": "82901fe8-e931-42b2-a55e-fea97267f28c",
   "metadata": {},
   "outputs": [
    {
     "name": "stdout",
     "output_type": "stream",
     "text": [
      "<class 'pandas.core.frame.DataFrame'>\n",
      "RangeIndex: 10000 entries, 0 to 9999\n",
      "Data columns (total 22 columns):\n",
      " #   Column         Non-Null Count  Dtype         \n",
      "---  ------         --------------  -----         \n",
      " 0   id             10000 non-null  int64         \n",
      " 1   category       10000 non-null  object        \n",
      " 2   title          10000 non-null  object        \n",
      " 3   body           10000 non-null  object        \n",
      " 4   amenities      10000 non-null  object        \n",
      " 5   bathrooms      10000 non-null  float64       \n",
      " 6   bedrooms       10000 non-null  float64       \n",
      " 7   currency       10000 non-null  object        \n",
      " 8   fee            10000 non-null  object        \n",
      " 9   has_photo      10000 non-null  object        \n",
      " 10  pets_allowed   10000 non-null  object        \n",
      " 11  price          10000 non-null  int64         \n",
      " 12  price_display  10000 non-null  object        \n",
      " 13  price_type     10000 non-null  object        \n",
      " 14  square_feet    10000 non-null  int64         \n",
      " 15  address        10000 non-null  object        \n",
      " 16  cityname       10000 non-null  object        \n",
      " 17  state          10000 non-null  object        \n",
      " 18  latitude       10000 non-null  float64       \n",
      " 19  longitude      10000 non-null  float64       \n",
      " 20  source         10000 non-null  object        \n",
      " 21  time           10000 non-null  datetime64[ns]\n",
      "dtypes: datetime64[ns](1), float64(4), int64(3), object(14)\n",
      "memory usage: 1.7+ MB\n"
     ]
    }
   ],
   "source": [
    "df.info()"
   ]
  },
  {
   "cell_type": "code",
   "execution_count": 21,
   "id": "948a4acd-da98-47ca-9382-2f38dae0e3c2",
   "metadata": {},
   "outputs": [],
   "source": [
    "df.drop_duplicates(inplace=True)"
   ]
  },
  {
   "cell_type": "code",
   "execution_count": 22,
   "id": "aeb0c656-a783-4f87-925f-61fd2996db40",
   "metadata": {},
   "outputs": [
    {
     "name": "stdout",
     "output_type": "stream",
     "text": [
      "<class 'pandas.core.frame.DataFrame'>\n",
      "RangeIndex: 10000 entries, 0 to 9999\n",
      "Data columns (total 22 columns):\n",
      " #   Column         Non-Null Count  Dtype         \n",
      "---  ------         --------------  -----         \n",
      " 0   id             10000 non-null  int64         \n",
      " 1   category       10000 non-null  object        \n",
      " 2   title          10000 non-null  object        \n",
      " 3   body           10000 non-null  object        \n",
      " 4   amenities      10000 non-null  object        \n",
      " 5   bathrooms      10000 non-null  float64       \n",
      " 6   bedrooms       10000 non-null  float64       \n",
      " 7   currency       10000 non-null  object        \n",
      " 8   fee            10000 non-null  object        \n",
      " 9   has_photo      10000 non-null  object        \n",
      " 10  pets_allowed   10000 non-null  object        \n",
      " 11  price          10000 non-null  int64         \n",
      " 12  price_display  10000 non-null  object        \n",
      " 13  price_type     10000 non-null  object        \n",
      " 14  square_feet    10000 non-null  int64         \n",
      " 15  address        10000 non-null  object        \n",
      " 16  cityname       10000 non-null  object        \n",
      " 17  state          10000 non-null  object        \n",
      " 18  latitude       10000 non-null  float64       \n",
      " 19  longitude      10000 non-null  float64       \n",
      " 20  source         10000 non-null  object        \n",
      " 21  time           10000 non-null  datetime64[ns]\n",
      "dtypes: datetime64[ns](1), float64(4), int64(3), object(14)\n",
      "memory usage: 1.7+ MB\n",
      "None\n"
     ]
    }
   ],
   "source": [
    "print(df.info())"
   ]
  },
  {
   "cell_type": "code",
   "execution_count": null,
   "id": "ed759df0-2e8a-43bf-86ec-3b52df650114",
   "metadata": {},
   "outputs": [],
   "source": []
  }
 ],
 "metadata": {
  "kernelspec": {
   "display_name": "Python 3 (ipykernel)",
   "language": "python",
   "name": "python3"
  },
  "language_info": {
   "codemirror_mode": {
    "name": "ipython",
    "version": 3
   },
   "file_extension": ".py",
   "mimetype": "text/x-python",
   "name": "python",
   "nbconvert_exporter": "python",
   "pygments_lexer": "ipython3",
   "version": "3.12.7"
  }
 },
 "nbformat": 4,
 "nbformat_minor": 5
}

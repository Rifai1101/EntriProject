{
 "cells": [
  {
   "cell_type": "code",
   "execution_count": 2,
   "id": "e537490d-22fd-458d-b067-10f0bb13bb10",
   "metadata": {},
   "outputs": [],
   "source": [
    "import numpy as np\n",
    "import pandas as pd"
   ]
  },
  {
   "cell_type": "code",
   "execution_count": 6,
   "id": "e0f91aec-f865-47aa-9b38-a680ed9a8433",
   "metadata": {},
   "outputs": [],
   "source": [
    "df = pd.read_csv('D:\\\\fy\\\\apartments_for_rent_classified_100K.csv', delimiter = ';', encoding = 'latin1', low_memory = False)"
   ]
  },
  {
   "cell_type": "code",
   "execution_count": 13,
   "id": "6aadb18c-ee34-4380-b498-5fea4ebf7aeb",
   "metadata": {},
   "outputs": [
    {
     "name": "stdout",
     "output_type": "stream",
     "text": [
      "<class 'pandas.core.frame.DataFrame'>\n",
      "RangeIndex: 99492 entries, 0 to 99491\n",
      "Data columns (total 22 columns):\n",
      " #   Column         Non-Null Count  Dtype  \n",
      "---  ------         --------------  -----  \n",
      " 0   id             99492 non-null  int64  \n",
      " 1   category       99492 non-null  object \n",
      " 2   title          99492 non-null  object \n",
      " 3   body           99492 non-null  object \n",
      " 4   amenities      83448 non-null  object \n",
      " 5   bathrooms      99429 non-null  float64\n",
      " 6   bedrooms       99368 non-null  float64\n",
      " 7   currency       99492 non-null  object \n",
      " 8   fee            99492 non-null  object \n",
      " 9   has_photo      99492 non-null  object \n",
      " 10  pets_allowed   39068 non-null  object \n",
      " 11  price          99491 non-null  float64\n",
      " 12  price_display  99491 non-null  object \n",
      " 13  price_type     99492 non-null  object \n",
      " 14  square_feet    99492 non-null  int64  \n",
      " 15  address        7943 non-null   object \n",
      " 16  cityname       99190 non-null  object \n",
      " 17  state          99190 non-null  object \n",
      " 18  latitude       99467 non-null  float64\n",
      " 19  longitude      99467 non-null  float64\n",
      " 20  source         99492 non-null  object \n",
      " 21  time           99492 non-null  int64  \n",
      "dtypes: float64(5), int64(3), object(14)\n",
      "memory usage: 16.7+ MB\n"
     ]
    }
   ],
   "source": [
    "df.info()"
   ]
  },
  {
   "cell_type": "code",
   "execution_count": 14,
   "id": "424aee25-9aea-43b6-9d60-c22c038755d7",
   "metadata": {},
   "outputs": [],
   "source": [
    "df['bathrooms'] = df['bathrooms'].fillna(df['bathrooms'].median())\n",
    "df['bedrooms'] = df['bedrooms'].fillna(df['bedrooms'].median())"
   ]
  },
  {
   "cell_type": "code",
   "execution_count": 17,
   "id": "f1241f25-ba04-469d-8dd6-dc6730e13c3d",
   "metadata": {},
   "outputs": [],
   "source": [
    "text_columns = ['amenities','pets_allowed','address','cityname','state']\n",
    "\n",
    "for col in text_columns:\n",
    "    df[col] = df[col].fillna('Unknown')"
   ]
  },
  {
   "cell_type": "code",
   "execution_count": 18,
   "id": "4c1dac3e-b214-46d4-ad25-928487ee9182",
   "metadata": {},
   "outputs": [
    {
     "name": "stdout",
     "output_type": "stream",
     "text": [
      "<class 'pandas.core.frame.DataFrame'>\n",
      "RangeIndex: 99492 entries, 0 to 99491\n",
      "Data columns (total 22 columns):\n",
      " #   Column         Non-Null Count  Dtype  \n",
      "---  ------         --------------  -----  \n",
      " 0   id             99492 non-null  int64  \n",
      " 1   category       99492 non-null  object \n",
      " 2   title          99492 non-null  object \n",
      " 3   body           99492 non-null  object \n",
      " 4   amenities      99492 non-null  object \n",
      " 5   bathrooms      99492 non-null  float64\n",
      " 6   bedrooms       99492 non-null  float64\n",
      " 7   currency       99492 non-null  object \n",
      " 8   fee            99492 non-null  object \n",
      " 9   has_photo      99492 non-null  object \n",
      " 10  pets_allowed   99492 non-null  object \n",
      " 11  price          99491 non-null  float64\n",
      " 12  price_display  99491 non-null  object \n",
      " 13  price_type     99492 non-null  object \n",
      " 14  square_feet    99492 non-null  int64  \n",
      " 15  address        99492 non-null  object \n",
      " 16  cityname       99492 non-null  object \n",
      " 17  state          99492 non-null  object \n",
      " 18  latitude       99467 non-null  float64\n",
      " 19  longitude      99467 non-null  float64\n",
      " 20  source         99492 non-null  object \n",
      " 21  time           99492 non-null  int64  \n",
      "dtypes: float64(5), int64(3), object(14)\n",
      "memory usage: 16.7+ MB\n"
     ]
    }
   ],
   "source": [
    "df.info()"
   ]
  },
  {
   "cell_type": "code",
   "execution_count": 19,
   "id": "aa29954d-b211-48ab-b415-f3a2de21edeb",
   "metadata": {},
   "outputs": [],
   "source": [
    "df['time'] = pd.to_datetime(df['time'], errors='coerce', unit='s')"
   ]
  },
  {
   "cell_type": "code",
   "execution_count": 20,
   "id": "e8cf67f0-db8e-4df3-ab39-bd0ef90ab473",
   "metadata": {},
   "outputs": [],
   "source": [
    "df.drop_duplicates(inplace=True)"
   ]
  },
  {
   "cell_type": "code",
   "execution_count": 21,
   "id": "109bd5c3-9473-4030-a841-5d9aaef7e593",
   "metadata": {},
   "outputs": [
    {
     "name": "stdout",
     "output_type": "stream",
     "text": [
      "<class 'pandas.core.frame.DataFrame'>\n",
      "Index: 99408 entries, 0 to 99491\n",
      "Data columns (total 22 columns):\n",
      " #   Column         Non-Null Count  Dtype         \n",
      "---  ------         --------------  -----         \n",
      " 0   id             99408 non-null  int64         \n",
      " 1   category       99408 non-null  object        \n",
      " 2   title          99408 non-null  object        \n",
      " 3   body           99408 non-null  object        \n",
      " 4   amenities      99408 non-null  object        \n",
      " 5   bathrooms      99408 non-null  float64       \n",
      " 6   bedrooms       99408 non-null  float64       \n",
      " 7   currency       99408 non-null  object        \n",
      " 8   fee            99408 non-null  object        \n",
      " 9   has_photo      99408 non-null  object        \n",
      " 10  pets_allowed   99408 non-null  object        \n",
      " 11  price          99407 non-null  float64       \n",
      " 12  price_display  99407 non-null  object        \n",
      " 13  price_type     99408 non-null  object        \n",
      " 14  square_feet    99408 non-null  int64         \n",
      " 15  address        99408 non-null  object        \n",
      " 16  cityname       99408 non-null  object        \n",
      " 17  state          99408 non-null  object        \n",
      " 18  latitude       99383 non-null  float64       \n",
      " 19  longitude      99383 non-null  float64       \n",
      " 20  source         99408 non-null  object        \n",
      " 21  time           99408 non-null  datetime64[ns]\n",
      "dtypes: datetime64[ns](1), float64(5), int64(2), object(14)\n",
      "memory usage: 17.4+ MB\n"
     ]
    }
   ],
   "source": [
    "df.info()"
   ]
  },
  {
   "cell_type": "code",
   "execution_count": null,
   "id": "7e2763fb-60d0-452b-ae42-a62cc151cb37",
   "metadata": {},
   "outputs": [],
   "source": []
  },
  {
   "cell_type": "code",
   "execution_count": null,
   "id": "82e53944-f46f-4dc2-96b4-ac8b6a0cc17b",
   "metadata": {},
   "outputs": [],
   "source": []
  }
 ],
 "metadata": {
  "kernelspec": {
   "display_name": "Python 3 (ipykernel)",
   "language": "python",
   "name": "python3"
  },
  "language_info": {
   "codemirror_mode": {
    "name": "ipython",
    "version": 3
   },
   "file_extension": ".py",
   "mimetype": "text/x-python",
   "name": "python",
   "nbconvert_exporter": "python",
   "pygments_lexer": "ipython3",
   "version": "3.12.7"
  }
 },
 "nbformat": 4,
 "nbformat_minor": 5
}
